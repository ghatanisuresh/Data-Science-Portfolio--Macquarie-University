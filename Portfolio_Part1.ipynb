{
 "cells": [
  {
   "cell_type": "markdown",
   "id": "03bfe56f",
   "metadata": {},
   "source": [
    "### Analysis of MovieLens Data\n",
    "\n",
    "We are provided with the MovieLens data collected by the GroupLens Research Project at the University of Minnesota.\n",
    "In particular, the data was collected through the MovieLens web site (movielens.umn.edu), which records a number of users' ratings (1-5) towards their watched movies. Besides, simple demographic info (e.g., age and gender) for the users and descriptive info (e.g., title and genre) for the movies are provided. \n",
    "\n",
    "Originally, there are several separate files to record the user-movie rating info, user demographic info and movie descriptive info, we have conducted preliminary processing to map and merge the data into one csv file named 'movielens_data.csv'. The header of the csv file is shown below. \n",
    "\n",
    "| userId | age | gender | occupation| movieId | rating | genre | timestamp |\n",
    "    | ---- | ---- | ---- | ---- | ---- | ---- | ---- | ---- | \n",
    "    \n",
    "#### Description of Fields\n",
    "\n",
    "* __userId__ - the user's id\n",
    "* __age__ - the user's age\n",
    "* __gender__ - the user's gender\n",
    "* __occupation__ - the user's occupation\n",
    "* __movieId__ - the movie's id\n",
    "* __rating__ - the user's rating towards the movie\n",
    "* __genre__ - the genre of the movie\n",
    "* __timestamp__ - the timestamp indicating when the user rated the movie\n",
    "\n",
    "Note that, a same user (i.e., a same userId) corresponds to a same age/gender/occupation; a same movie (i.e., a same movieId) corresponds to a same genre; a same user (i.e., a same userId) may rate multiple movies and a same movie (i.e., a same movieId) may receive ratings from multiple users.\n",
    "\n",
    "There are four questions to explore with the data as shown below."
   ]
  },
  {
   "cell_type": "markdown",
   "id": "55934c71",
   "metadata": {},
   "source": [
    " #### Q1. Remove missing data\n",
    " \n",
    "Please remove the following records in the csv file: \n",
    " \n",
    " * age/gender/rating is missing\n",
    " * occupation is 'none'\n",
    "\n",
    "__Print the length of the data__ before and after removing the missing data.  "
   ]
  },
  {
   "cell_type": "code",
   "execution_count": 3,
   "id": "29110c64",
   "metadata": {},
   "outputs": [],
   "source": [
    "# importing library\n",
    "import numpy as np\n",
    "import pandas as pd\n",
    "from pandas import DataFrame\n",
    "import matplotlib.pyplot as plt\n",
    "%matplotlib inline\n",
    "import seaborn as sns"
   ]
  },
  {
   "cell_type": "code",
   "execution_count": 6,
   "id": "4b9e05fa",
   "metadata": {},
   "outputs": [
    {
     "data": {
      "text/html": [
       "<div>\n",
       "<style scoped>\n",
       "    .dataframe tbody tr th:only-of-type {\n",
       "        vertical-align: middle;\n",
       "    }\n",
       "\n",
       "    .dataframe tbody tr th {\n",
       "        vertical-align: top;\n",
       "    }\n",
       "\n",
       "    .dataframe thead th {\n",
       "        text-align: right;\n",
       "    }\n",
       "</style>\n",
       "<table border=\"1\" class=\"dataframe\">\n",
       "  <thead>\n",
       "    <tr style=\"text-align: right;\">\n",
       "      <th></th>\n",
       "      <th>userId</th>\n",
       "      <th>age</th>\n",
       "      <th>gender</th>\n",
       "      <th>occupation</th>\n",
       "      <th>movieId</th>\n",
       "      <th>rating</th>\n",
       "      <th>genre</th>\n",
       "      <th>timestamp</th>\n",
       "    </tr>\n",
       "  </thead>\n",
       "  <tbody>\n",
       "    <tr>\n",
       "      <th>0</th>\n",
       "      <td>196</td>\n",
       "      <td>49.0</td>\n",
       "      <td>M</td>\n",
       "      <td>writer</td>\n",
       "      <td>242</td>\n",
       "      <td>3.0</td>\n",
       "      <td>Comedy</td>\n",
       "      <td>881250949</td>\n",
       "    </tr>\n",
       "    <tr>\n",
       "      <th>1</th>\n",
       "      <td>186</td>\n",
       "      <td>39.0</td>\n",
       "      <td>F</td>\n",
       "      <td>executive</td>\n",
       "      <td>302</td>\n",
       "      <td>NaN</td>\n",
       "      <td>Crime</td>\n",
       "      <td>891717742</td>\n",
       "    </tr>\n",
       "    <tr>\n",
       "      <th>2</th>\n",
       "      <td>22</td>\n",
       "      <td>25.0</td>\n",
       "      <td>M</td>\n",
       "      <td>writer</td>\n",
       "      <td>377</td>\n",
       "      <td>1.0</td>\n",
       "      <td>Children</td>\n",
       "      <td>878887116</td>\n",
       "    </tr>\n",
       "    <tr>\n",
       "      <th>3</th>\n",
       "      <td>244</td>\n",
       "      <td>28.0</td>\n",
       "      <td>M</td>\n",
       "      <td>technician</td>\n",
       "      <td>51</td>\n",
       "      <td>2.0</td>\n",
       "      <td>Romance</td>\n",
       "      <td>880606923</td>\n",
       "    </tr>\n",
       "    <tr>\n",
       "      <th>4</th>\n",
       "      <td>166</td>\n",
       "      <td>47.0</td>\n",
       "      <td>NaN</td>\n",
       "      <td>educator</td>\n",
       "      <td>346</td>\n",
       "      <td>1.0</td>\n",
       "      <td>Drama</td>\n",
       "      <td>886397596</td>\n",
       "    </tr>\n",
       "    <tr>\n",
       "      <th>...</th>\n",
       "      <td>...</td>\n",
       "      <td>...</td>\n",
       "      <td>...</td>\n",
       "      <td>...</td>\n",
       "      <td>...</td>\n",
       "      <td>...</td>\n",
       "      <td>...</td>\n",
       "      <td>...</td>\n",
       "    </tr>\n",
       "    <tr>\n",
       "      <th>95</th>\n",
       "      <td>119</td>\n",
       "      <td>32.0</td>\n",
       "      <td>M</td>\n",
       "      <td>programmer</td>\n",
       "      <td>1153</td>\n",
       "      <td>5.0</td>\n",
       "      <td>Musical</td>\n",
       "      <td>874781198</td>\n",
       "    </tr>\n",
       "    <tr>\n",
       "      <th>96</th>\n",
       "      <td>62</td>\n",
       "      <td>27.0</td>\n",
       "      <td>F</td>\n",
       "      <td>administrator</td>\n",
       "      <td>498</td>\n",
       "      <td>NaN</td>\n",
       "      <td>Action</td>\n",
       "      <td>879373848</td>\n",
       "    </tr>\n",
       "    <tr>\n",
       "      <th>97</th>\n",
       "      <td>62</td>\n",
       "      <td>27.0</td>\n",
       "      <td>NaN</td>\n",
       "      <td>administrator</td>\n",
       "      <td>382</td>\n",
       "      <td>3.0</td>\n",
       "      <td>Comedy</td>\n",
       "      <td>879375537</td>\n",
       "    </tr>\n",
       "    <tr>\n",
       "      <th>98</th>\n",
       "      <td>28</td>\n",
       "      <td>32.0</td>\n",
       "      <td>M</td>\n",
       "      <td>writer</td>\n",
       "      <td>209</td>\n",
       "      <td>4.0</td>\n",
       "      <td>Musical</td>\n",
       "      <td>881961214</td>\n",
       "    </tr>\n",
       "    <tr>\n",
       "      <th>99</th>\n",
       "      <td>135</td>\n",
       "      <td>23.0</td>\n",
       "      <td>M</td>\n",
       "      <td>student</td>\n",
       "      <td>23</td>\n",
       "      <td>4.0</td>\n",
       "      <td>Drama</td>\n",
       "      <td>879857765</td>\n",
       "    </tr>\n",
       "  </tbody>\n",
       "</table>\n",
       "<p>100 rows × 8 columns</p>\n",
       "</div>"
      ],
      "text/plain": [
       "    userId   age gender     occupation  movieId  rating     genre  timestamp\n",
       "0      196  49.0      M         writer      242     3.0    Comedy  881250949\n",
       "1      186  39.0      F      executive      302     NaN     Crime  891717742\n",
       "2       22  25.0      M         writer      377     1.0  Children  878887116\n",
       "3      244  28.0      M     technician       51     2.0   Romance  880606923\n",
       "4      166  47.0    NaN       educator      346     1.0     Drama  886397596\n",
       "..     ...   ...    ...            ...      ...     ...       ...        ...\n",
       "95     119  32.0      M     programmer     1153     5.0   Musical  874781198\n",
       "96      62  27.0      F  administrator      498     NaN    Action  879373848\n",
       "97      62  27.0    NaN  administrator      382     3.0    Comedy  879375537\n",
       "98      28  32.0      M         writer      209     4.0   Musical  881961214\n",
       "99     135  23.0      M        student       23     4.0     Drama  879857765\n",
       "\n",
       "[100 rows x 8 columns]"
      ]
     },
     "execution_count": 6,
     "metadata": {},
     "output_type": "execute_result"
    }
   ],
   "source": [
    "# geting data from  'movielens_data.csv' file\n",
    "movie_Lens = pd.read_csv('files/movielens_data.csv')\n",
    "movie_Lens.head(100)"
   ]
  },
  {
   "cell_type": "markdown",
   "id": "605ddd2c",
   "metadata": {},
   "source": [
    "#### Removal of missing data\n"
   ]
  },
  {
   "cell_type": "code",
   "execution_count": 22,
   "id": "b2f0a9f6",
   "metadata": {},
   "outputs": [
    {
     "name": "stdout",
     "output_type": "stream",
     "text": [
      "The Length of the data before removing the missing data :100000\n",
      "The Length of the data after removing missing data as of question conditions  : 99022\n"
     ]
    }
   ],
   "source": [
    "# Question 1 solution\n",
    "# printing the length of the data prior removing the missing data\n",
    "length_previous_missing_data = len(movie_Lens)\n",
    "print(\"The Length of the data before removing the missing data :\" + str(length_previous_missing_data))\n",
    "\n",
    "# Removal of missing data\n",
    "new_movie_Lens =  movie_Lens.dropna() \n",
    "\n",
    "# Removing data with occupation is 'none'\n",
    "final_movie_Lens = new_movie_Lens.drop(new_movie_Lens[new_movie_Lens.occupation == 'none'].index)\n",
    "final_Movies_Length = len(final_movie_Lens)\n",
    "\n",
    "print('The Length of the data after removing missing data as of question conditions  : ' + str(final_Movies_Length))\n",
    "\n"
   ]
  },
  {
   "cell_type": "code",
   "execution_count": 28,
   "id": "f3e34b8a",
   "metadata": {},
   "outputs": [],
   "source": [
    "final_movie_Lens.to_csv(r'C:\\Users\\shrea\\Documents\\GitHub\\Portfolio\\data-science-portfolio-Ghtanisuresh\\files\\movielens_data_clean.csv', index = False, header = True)\n"
   ]
  },
  {
   "cell_type": "markdown",
   "id": "063e08bf",
   "metadata": {},
   "source": [
    "#### Q2. Descriptive statistics\n",
    "\n",
    "With the cleaned data in Q1, please provide the data summarization as below:\n",
    "\n",
    "* Q2.1 total number of unique users, unique occupations, unique movies, and unique genres\n",
    "* Q2.2 descriptive statistics, e.g., the total number, mean, std, min and max regarding all rating records\n",
    "* Q2.3 descriptive statistics, e.g., mean, std, max, and min of the number of movies rated by each user \n",
    "* Q2.4 descriptive statistics, e.g., mean, std, max, min of the number of ratings that received by each movie \n"
   ]
  },
  {
   "cell_type": "markdown",
   "id": "31be1ea6",
   "metadata": {},
   "source": [
    "## Solution for the question 'Q2.1'.\n"
   ]
  },
  {
   "cell_type": "code",
   "execution_count": 4,
   "id": "d7662c9a",
   "metadata": {},
   "outputs": [
    {
     "name": "stdout",
     "output_type": "stream",
     "text": [
      "Total number of unique Users :  934\n",
      "Total number of unique Occupations :  20\n",
      "Total number of unique Movies :  1682\n",
      "Total number of unique Genre :  19\n"
     ]
    }
   ],
   "source": [
    "# unique users\n",
    "totalNumUniqueUsers = final_movie_Lens.userId.nunique()\n",
    "print('Total number of unique Users : ', totalNumUniqueUsers)\n",
    "\n",
    "# unique occupations\n",
    "totalNumUniqueOccupations = final_movie_Lens.occupation.nunique()\n",
    "print('Total number of unique Occupations : ', totalNumUniqueOccupations)\n",
    "\n",
    "# unique movies\n",
    "totalNumUniqueMovies = final_movie_Lens.movieId.nunique()\n",
    "print('Total number of unique Movies : ', totalNumUniqueMovies)\n",
    "\n",
    "# unique genres\n",
    "totalNumUniqueGenre = final_movie_Lens.genre.nunique()\n",
    "print('Total number of unique Genre : ', totalNumUniqueGenre)\n",
    "\n"
   ]
  },
  {
   "cell_type": "markdown",
   "id": "e9d4eed7",
   "metadata": {},
   "source": [
    "## Solution for the question 'Q2.2'"
   ]
  },
  {
   "cell_type": "code",
   "execution_count": 5,
   "id": "efbabc64",
   "metadata": {},
   "outputs": [
    {
     "name": "stdout",
     "output_type": "stream",
     "text": [
      "Total number regarding all rating records :  99022\n",
      "Mean regarding all rating records :  3.5277918038415708\n",
      "Std regarding all rating records :  1.1257428690692985\n",
      "Min regarding all rating records :  1.0\n",
      "Max regarding all rating records :  5.0\n"
     ]
    }
   ],
   "source": [
    "# the total number, mean, std, min and max regarding all rating records\n",
    "print('Total number regarding all rating records : ', final_movie_Lens.rating.count())\n",
    "\n",
    "print('Mean regarding all rating records : ', final_movie_Lens.rating.mean())\n",
    "\n",
    "print('Std regarding all rating records : ', final_movie_Lens.rating.std())\n",
    "\n",
    "print('Min regarding all rating records : ', final_movie_Lens.rating.min())\n",
    "\n",
    "print('Max regarding all rating records : ', final_movie_Lens.rating.max())\n"
   ]
  },
  {
   "cell_type": "markdown",
   "id": "183775d5",
   "metadata": {},
   "source": [
    "## Solution for the question 'Q2.3'"
   ]
  },
  {
   "cell_type": "code",
   "execution_count": 6,
   "id": "12e407bc",
   "metadata": {},
   "outputs": [
    {
     "name": "stdout",
     "output_type": "stream",
     "text": [
      "Mean,std, max, and min values of the number of movies rated by each user:\n",
      "           movieId                       \n",
      "              mean         std   max  min\n",
      "userId                                   \n",
      "1       136.500000   78.663842   272    1\n",
      "2       249.500000   93.021194   316    1\n",
      "3       318.814815   33.955061   355  181\n",
      "4       291.041667   90.440218   362   11\n",
      "5       292.582353  138.830264   457    1\n",
      "...            ...         ...   ...  ...\n",
      "939     514.081633  337.429365  1277    9\n",
      "940     346.850467  268.088791  1401    4\n",
      "941     357.818182  304.156701  1007    1\n",
      "942     429.113924  275.959352  1221   31\n",
      "943     379.089286  303.931875  1330    2\n",
      "\n",
      "[934 rows x 4 columns]\n"
     ]
    }
   ],
   "source": [
    "#  mean, std, max, and min of the number of movies rated by each user\n",
    "\n",
    "movies_rated_by_each_user = final_movie_Lens.groupby('userId').agg({'movieId': ['mean','std', 'max', 'min']})\n",
    "  \n",
    "print(\"Mean,std, max, and min values of the number of movies rated by each user:\")\n",
    "print(movies_rated_by_each_user)\n"
   ]
  },
  {
   "cell_type": "markdown",
   "id": "16866abd",
   "metadata": {},
   "source": [
    "## Solution for the question 'Q2.4'"
   ]
  },
  {
   "cell_type": "code",
   "execution_count": 7,
   "id": "067e4c50",
   "metadata": {},
   "outputs": [
    {
     "name": "stdout",
     "output_type": "stream",
     "text": [
      "Mean,std, max, and min values of the rating received by each movie\n",
      "           rating                    \n",
      "             mean       std  max  min\n",
      "movieId                              \n",
      "1        3.876404  0.927802  5.0  1.0\n",
      "2        3.186047  0.958249  5.0  1.0\n",
      "3        3.034091  1.188536  5.0  1.0\n",
      "4        3.543689  0.955362  5.0  1.0\n",
      "5        3.273810  0.935913  5.0  1.0\n",
      "...           ...       ...  ...  ...\n",
      "1678     1.000000       NaN  1.0  1.0\n",
      "1679     3.000000       NaN  3.0  3.0\n",
      "1680     2.000000       NaN  2.0  2.0\n",
      "1681     3.000000       NaN  3.0  3.0\n",
      "1682     3.000000       NaN  3.0  3.0\n",
      "\n",
      "[1682 rows x 4 columns]\n"
     ]
    }
   ],
   "source": [
    "# mean, std, max, min of the number of ratings that received by each movie\n",
    "\n",
    "ratings_received_by_each_movie = final_movie_Lens.groupby('movieId').agg({'rating': ['mean','std', 'max', 'min']})\n",
    "  \n",
    "print(\"Mean,std, max, and min values of the rating received by each movie\")\n",
    "print(ratings_received_by_each_movie)"
   ]
  },
  {
   "cell_type": "markdown",
   "id": "7b070d5d",
   "metadata": {},
   "source": [
    "#### Q3. Plotting and Analysis\n",
    "\n",
    "Please try to explore the correlation between gender/occupation/genre and ratings; for instance, do female/male users tend to provide higher ratings than male/female users? Hint: you may use the boxplot function to plot figures for comparison (___Challenge___)\n",
    "    \n",
    "You may need to select the most suitable graphic forms for ease of presentation. Most importantly, for each figure or subfigure, please summarise ___what each plot shows___ (i.e. observations and explanations). Finally, you may need to provide an overall summary of the data."
   ]
  },
  {
   "cell_type": "code",
   "execution_count": 13,
   "id": "76de7822",
   "metadata": {},
   "outputs": [
    {
     "data": {
      "text/plain": [
       "<AxesSubplot:xlabel='gender', ylabel='rating'>"
      ]
     },
     "execution_count": 13,
     "metadata": {},
     "output_type": "execute_result"
    },
    {
     "data": {
      "image/png": "[encoded data removed]",
      "text/plain": [
       "<Figure size 432x288 with 1 Axes>"
      ]
     },
     "metadata": {
      "needs_background": "light"
     },
     "output_type": "display_data"
    }
   ],
   "source": [
    "# Code to display the box plot for male and female users and to compare the rating provide by the male and female user\n",
    "plt.figure()\n",
    "sns.boxplot(x='gender', y='rating', data=final_movie_Lens, orient=\"v\")\n",
    "\n",
    "# After seeing the box plot we can conclude that male and female user tends to provide same ratings"
   ]
  },
  {
   "cell_type": "code",
   "execution_count": 14,
   "id": "e0f00694",
   "metadata": {},
   "outputs": [
    {
     "data": {
      "image/png": "[encoded data removed]",
      "text/plain": [
       "<Figure size 432x288 with 6 Axes>"
      ]
     },
     "metadata": {
      "needs_background": "light"
     },
     "output_type": "display_data"
    }
   ],
   "source": [
    "# different histogram of rating with respect to age.\n",
    "final_movie_Lens.hist(column = 'age', by = 'rating');"
   ]
  },
  {
   "cell_type": "code",
   "execution_count": 16,
   "id": "6c42c9c2",
   "metadata": {},
   "outputs": [
    {
     "data": {
      "text/plain": [
       "<AxesSubplot:xlabel='occupation', ylabel='rating'>"
      ]
     },
     "execution_count": 16,
     "metadata": {},
     "output_type": "execute_result"
    },
    {
     "data": {
      "image/png": "[encoded data removed]",
      "text/plain": [
       "<Figure size 432x288 with 1 Axes>"
      ]
     },
     "metadata": {
      "needs_background": "light"
     },
     "output_type": "display_data"
    }
   ],
   "source": [
    "#box plot for rating with respect to occupation\n",
    "plt.figure()\n",
    "sns.boxplot(x='occupation', y='rating', data=final_movie_Lens, orient=\"v\")"
   ]
  },
  {
   "cell_type": "markdown",
   "id": "1d8d121f",
   "metadata": {},
   "source": [
    "#### Q4. Detect and remove outliers\n",
    "\n",
    "We may define outlier users and movies with three rules:\n",
    "\n",
    "* users whose age is no more than 10\n",
    "* users who rate less than 20 movies\n",
    "* movies that receives less than 10 ratings (i.e., movies that are rated by less than 10 users)\n",
    " \n",
    "Please remove the corresponding records in the csv file that involves outlier users and movies. After that, __print the length of the data__."
   ]
  },
  {
   "cell_type": "code",
   "execution_count": 21,
   "id": "1d99ecc9",
   "metadata": {},
   "outputs": [
    {
     "name": "stdout",
     "output_type": "stream",
     "text": [
      "The length of data after remains after removing outliers :  95943\n"
     ]
    }
   ],
   "source": [
    "#removing users whose age is no more than 10\n",
    "age_removing_outliers = final_movie_Lens[(final_movie_Lens.age > 10)]\n",
    "\n",
    "#removing users who rate less than 20 movies\n",
    "rater_removing1 = age_removing_outliers[ age_removing_outliers.groupby('userId').movieId.transform(len) > 20]\n",
    "\n",
    "#removing movies that receives less than 10 ratings\n",
    "less_ratings = rater_removing1[rater_removing1.groupby('movieId').rating.transform(len) > 10]\n",
    "\n",
    "#printing the length of the data after removing outliers\n",
    "print('The length of data after remains after removing outliers : ', len(less_ratings))"
   ]
  },
  {
   "cell_type": "code",
   "execution_count": null,
   "id": "05b95748",
   "metadata": {},
   "outputs": [],
   "source": []
  }
 ],
 "metadata": {
  "kernelspec": {
   "display_name": "Python 3 (ipykernel)",
   "language": "python",
   "name": "python3"
  },
  "language_info": {
   "codemirror_mode": {
    "name": "ipython",
    "version": 3
   },
   "file_extension": ".py",
   "mimetype": "text/x-python",
   "name": "python",
   "nbconvert_exporter": "python",
   "pygments_lexer": "ipython3",
   "version": "3.10.4"
  }
 },
 "nbformat": 4,
 "nbformat_minor": 5
}
